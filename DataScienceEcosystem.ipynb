{
 "cells": [
  {
   "cell_type": "markdown",
   "id": "16ffe4b0-0d76-4705-a5df-4076096bfcc3",
   "metadata": {},
   "source": [
    "# Data Science Tools and Ecosystem"
   ]
  },
  {
   "cell_type": "markdown",
   "id": "716fa998-bc1c-40f4-a83b-fd8b8259ac0e",
   "metadata": {},
   "source": [
    "In this notebook, Data Science Tools and Ecosystem are summarized."
   ]
  },
  {
   "cell_type": "markdown",
   "id": "97badc7a-4eb5-4531-9cde-0a7b8377fced",
   "metadata": {},
   "source": [
    "Objectives:\n",
    "* List popular languages for Data Science\n",
    "* List some commonly used libraries for Data Science\n",
    "* Adding and multiplying in Jupyter Notebook"
   ]
  },
  {
   "cell_type": "markdown",
   "id": "26b32d13-9ffd-489e-93ca-abf47f9a1f9c",
   "metadata": {},
   "source": [
    "Some of the popular languages that Data Scientists use are:\n",
    "1. Python\n",
    "2. R\n",
    "3. Julia"
   ]
  },
  {
   "cell_type": "markdown",
   "id": "3a48b2c6-080a-4135-9468-46002659f387",
   "metadata": {},
   "source": [
    "Some of the commonly used libraries used by Data Scientists include:\n",
    "1. NumPy\n",
    "2. Pandas\n",
    "3. Keras\n",
    "4. Matplotlib"
   ]
  },
  {
   "cell_type": "markdown",
   "id": "3a5d16da-44dd-4676-a0a1-5c9520d9df0d",
   "metadata": {},
   "source": [
    "| Data Science Tools |\n",
    "| ------------------ |\n",
    "| Jupyter Notebook |\n",
    "| Apache Spark |\n",
    "| TensorFlow |"
   ]
  },
  {
   "cell_type": "markdown",
   "id": "d33201b9-c4c8-4b8d-96a3-83fdd5c98f12",
   "metadata": {},
   "source": [
    "### Below are a few examples of evaluating arithmetic expressions in Python\n",
    "\n",
    "9*6, 3+2, (54+6)/3"
   ]
  },
  {
   "cell_type": "code",
   "execution_count": 5,
   "id": "63066cb6-9c4e-45af-b74f-3b15466b9b39",
   "metadata": {},
   "outputs": [
    {
     "data": {
      "text/plain": [
       "17"
      ]
     },
     "execution_count": 5,
     "metadata": {},
     "output_type": "execute_result"
    }
   ],
   "source": [
    "#This a simple arithmetic expression to multiply then add integers\n",
    "\n",
    "(3*4)+5"
   ]
  },
  {
   "cell_type": "code",
   "execution_count": 6,
   "id": "41ca3d12-cd16-4d25-baa4-a3758cc2ba18",
   "metadata": {},
   "outputs": [
    {
     "data": {
      "text/plain": [
       "6.666666666666667"
      ]
     },
     "execution_count": 6,
     "metadata": {},
     "output_type": "execute_result"
    }
   ],
   "source": [
    "#This will convert 400 minutes to hours by diving by 60\n",
    "400/60"
   ]
  },
  {
   "cell_type": "markdown",
   "id": "8faa93b7-c859-4ca5-913d-308d4ac24a85",
   "metadata": {},
   "source": [
    "## Author\n",
    "Taosif Mahir"
   ]
  }
 ],
 "metadata": {
  "kernelspec": {
   "display_name": "Python 3 (ipykernel)",
   "language": "python",
   "name": "python3"
  },
  "language_info": {
   "codemirror_mode": {
    "name": "ipython",
    "version": 3
   },
   "file_extension": ".py",
   "mimetype": "text/x-python",
   "name": "python",
   "nbconvert_exporter": "python",
   "pygments_lexer": "ipython3",
   "version": "3.12.8"
  }
 },
 "nbformat": 4,
 "nbformat_minor": 5
}
